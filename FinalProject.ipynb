{
 "cells": [
  {
   "cell_type": "code",
   "execution_count": 1,
   "metadata": {
    "id": "X6MSJ1FwdV5_"
   },
   "outputs": [],
   "source": [
    "#Installing packages\n",
    "import pymongo\n",
    "import pandas as pd\n",
    "import json"
   ]
  },
  {
   "cell_type": "code",
   "execution_count": 2,
   "metadata": {
    "id": "fPIGp3OqdaLJ"
   },
   "outputs": [],
   "source": [
    "#Connecting to mongodb\n",
    "from pymongo import MongoClient\n",
    "client = MongoClient('localhost',27017)\n",
    "db = client.mdfinalproject"
   ]
  },
  {
   "cell_type": "code",
   "execution_count": 3,
   "metadata": {
    "id": "nuA-FDEngjPZ"
   },
   "outputs": [],
   "source": [
    "records = []\n",
    "with open ('COVID-19Timeseries.json') as k:\n",
    "    records = json.load(k)"
   ]
  },
  {
   "cell_type": "code",
   "execution_count": 4,
   "metadata": {
    "colab": {
     "base_uri": "https://localhost:8080/"
    },
    "id": "L-36f2Bkepcu",
    "outputId": "578d1911-44d3-487f-ec73-82ef09370e0b"
   },
   "outputs": [
    {
     "data": {
      "text/plain": [
       "21746"
      ]
     },
     "execution_count": 4,
     "metadata": {
      "tags": []
     },
     "output_type": "execute_result"
    }
   ],
   "source": [
    "len(records)"
   ]
  },
  {
   "cell_type": "code",
   "execution_count": 7,
   "metadata": {
    "colab": {
     "base_uri": "https://localhost:8080/"
    },
    "id": "fvSwfKhi8Z7c",
    "outputId": "32ea01ea-1762-4cba-bd41-19a771da57a3"
   },
   "outputs": [
    {
     "data": {
      "text/plain": [
       "<pymongo.results.InsertManyResult at 0x7fd248649f80>"
      ]
     },
     "execution_count": 7,
     "metadata": {
      "tags": []
     },
     "output_type": "execute_result"
    }
   ],
   "source": [
    "#Loading in into the data\n",
    "collection = db.covid19patients\n",
    "collection.insert_many(records)"
   ]
  },
  {
   "cell_type": "code",
   "execution_count": 8,
   "metadata": {
    "colab": {
     "base_uri": "https://localhost:8080/"
    },
    "id": "I6T8Fh6R5ChI",
    "outputId": "a8221c31-c9f1-4d85-820e-e8be083080a0"
   },
   "outputs": [
    {
     "data": {
      "text/plain": [
       "21746"
      ]
     },
     "execution_count": 8,
     "metadata": {
      "tags": []
     },
     "output_type": "execute_result"
    }
   ],
   "source": [
    "total_docs = collection.count_documents({})\n",
    "total_docs"
   ]
  },
  {
   "cell_type": "code",
   "execution_count": 9,
   "metadata": {
    "id": "Qn3EAORQ9YK1"
   },
   "outputs": [],
   "source": [
    "#MongoDB test sample\n",
    "query = {\n",
    "    \"state\": {\n",
    "        \"$regex\": 'LA'\n",
    "    }    \n",
    "}\n",
    "cur = collection.find(query)"
   ]
  },
  {
   "cell_type": "code",
   "execution_count": null,
   "metadata": {
    "colab": {
     "base_uri": "https://localhost:8080/"
    },
    "id": "kPVOlBOx9aJ0",
    "outputId": "49295e0b-ad22-444e-8905-f3f3cc760365"
   },
   "outputs": [],
   "source": [
    "#Appending the result into the list\n",
    "a  = []\n",
    "\n",
    "for i in cur:\n",
    "    a.append(i)"
   ]
  },
  {
   "cell_type": "code",
   "execution_count": 11,
   "metadata": {
    "colab": {
     "base_uri": "https://localhost:8080/",
     "height": 253
    },
    "id": "U0ip6a3L46uv",
    "outputId": "02905b27-80a2-47aa-f5a6-6a2facfe755b"
   },
   "outputs": [
    {
     "data": {
      "text/html": [
       "<div>\n",
       "<style scoped>\n",
       "    .dataframe tbody tr th:only-of-type {\n",
       "        vertical-align: middle;\n",
       "    }\n",
       "\n",
       "    .dataframe tbody tr th {\n",
       "        vertical-align: top;\n",
       "    }\n",
       "\n",
       "    .dataframe thead th {\n",
       "        text-align: right;\n",
       "    }\n",
       "</style>\n",
       "<table border=\"1\" class=\"dataframe\">\n",
       "  <thead>\n",
       "    <tr style=\"text-align: right;\">\n",
       "      <th></th>\n",
       "      <th>state</th>\n",
       "      <th>date</th>\n",
       "      <th>critical_staffing_shortage_today_yes</th>\n",
       "      <th>critical_staffing_shortage_today_no</th>\n",
       "      <th>critical_staffing_shortage_today_not_reported</th>\n",
       "      <th>critical_staffing_shortage_anticipated_within_week_yes</th>\n",
       "      <th>critical_staffing_shortage_anticipated_within_week_no</th>\n",
       "      <th>critical_staffing_shortage_anticipated_within_week_not_reported</th>\n",
       "      <th>hospital_onset_covid</th>\n",
       "      <th>hospital_onset_covid_coverage</th>\n",
       "      <th>...</th>\n",
       "      <th>inpatient_bed_covid_utilization_numerator</th>\n",
       "      <th>inpatient_bed_covid_utilization_denominator</th>\n",
       "      <th>adult_icu_bed_covid_utilization</th>\n",
       "      <th>adult_icu_bed_covid_utilization_coverage</th>\n",
       "      <th>adult_icu_bed_covid_utilization_numerator</th>\n",
       "      <th>adult_icu_bed_covid_utilization_denominator</th>\n",
       "      <th>adult_icu_bed_utilization</th>\n",
       "      <th>adult_icu_bed_utilization_coverage</th>\n",
       "      <th>adult_icu_bed_utilization_numerator</th>\n",
       "      <th>adult_icu_bed_utilization_denominator</th>\n",
       "    </tr>\n",
       "  </thead>\n",
       "  <tbody>\n",
       "    <tr>\n",
       "      <th>0</th>\n",
       "      <td>LA</td>\n",
       "      <td>8/1/2020</td>\n",
       "      <td>43</td>\n",
       "      <td>142</td>\n",
       "      <td>37</td>\n",
       "      <td>45</td>\n",
       "      <td>139</td>\n",
       "      <td>38</td>\n",
       "      <td>12.0</td>\n",
       "      <td>221</td>\n",
       "      <td>...</td>\n",
       "      <td>42.0</td>\n",
       "      <td>322.0</td>\n",
       "      <td>0.214721</td>\n",
       "      <td>220.0</td>\n",
       "      <td>423.0</td>\n",
       "      <td>1970.0</td>\n",
       "      <td>0.725381</td>\n",
       "      <td>220.0</td>\n",
       "      <td>1429.0</td>\n",
       "      <td>1970.0</td>\n",
       "    </tr>\n",
       "    <tr>\n",
       "      <th>1</th>\n",
       "      <td>LA</td>\n",
       "      <td>7/31/2020</td>\n",
       "      <td>44</td>\n",
       "      <td>150</td>\n",
       "      <td>43</td>\n",
       "      <td>46</td>\n",
       "      <td>147</td>\n",
       "      <td>44</td>\n",
       "      <td>10.0</td>\n",
       "      <td>236</td>\n",
       "      <td>...</td>\n",
       "      <td>39.0</td>\n",
       "      <td>322.0</td>\n",
       "      <td>0.221270</td>\n",
       "      <td>235.0</td>\n",
       "      <td>439.0</td>\n",
       "      <td>1984.0</td>\n",
       "      <td>0.721774</td>\n",
       "      <td>235.0</td>\n",
       "      <td>1432.0</td>\n",
       "      <td>1984.0</td>\n",
       "    </tr>\n",
       "    <tr>\n",
       "      <th>2</th>\n",
       "      <td>LA</td>\n",
       "      <td>7/30/2020</td>\n",
       "      <td>43</td>\n",
       "      <td>149</td>\n",
       "      <td>44</td>\n",
       "      <td>45</td>\n",
       "      <td>146</td>\n",
       "      <td>45</td>\n",
       "      <td>11.0</td>\n",
       "      <td>236</td>\n",
       "      <td>...</td>\n",
       "      <td>36.0</td>\n",
       "      <td>292.0</td>\n",
       "      <td>0.219624</td>\n",
       "      <td>234.0</td>\n",
       "      <td>432.0</td>\n",
       "      <td>1967.0</td>\n",
       "      <td>0.716319</td>\n",
       "      <td>234.0</td>\n",
       "      <td>1409.0</td>\n",
       "      <td>1967.0</td>\n",
       "    </tr>\n",
       "    <tr>\n",
       "      <th>3</th>\n",
       "      <td>LA</td>\n",
       "      <td>7/29/2020</td>\n",
       "      <td>42</td>\n",
       "      <td>161</td>\n",
       "      <td>46</td>\n",
       "      <td>46</td>\n",
       "      <td>156</td>\n",
       "      <td>47</td>\n",
       "      <td>13.0</td>\n",
       "      <td>249</td>\n",
       "      <td>...</td>\n",
       "      <td>39.0</td>\n",
       "      <td>292.0</td>\n",
       "      <td>0.223850</td>\n",
       "      <td>247.0</td>\n",
       "      <td>443.0</td>\n",
       "      <td>1979.0</td>\n",
       "      <td>0.712481</td>\n",
       "      <td>247.0</td>\n",
       "      <td>1410.0</td>\n",
       "      <td>1979.0</td>\n",
       "    </tr>\n",
       "    <tr>\n",
       "      <th>4</th>\n",
       "      <td>LA</td>\n",
       "      <td>7/28/2020</td>\n",
       "      <td>44</td>\n",
       "      <td>158</td>\n",
       "      <td>47</td>\n",
       "      <td>46</td>\n",
       "      <td>155</td>\n",
       "      <td>48</td>\n",
       "      <td>15.0</td>\n",
       "      <td>249</td>\n",
       "      <td>...</td>\n",
       "      <td>39.0</td>\n",
       "      <td>292.0</td>\n",
       "      <td>0.232641</td>\n",
       "      <td>247.0</td>\n",
       "      <td>459.0</td>\n",
       "      <td>1973.0</td>\n",
       "      <td>0.727319</td>\n",
       "      <td>247.0</td>\n",
       "      <td>1435.0</td>\n",
       "      <td>1973.0</td>\n",
       "    </tr>\n",
       "  </tbody>\n",
       "</table>\n",
       "<p>5 rows × 60 columns</p>\n",
       "</div>"
      ],
      "text/plain": [
       "  state       date  critical_staffing_shortage_today_yes  \\\n",
       "0    LA   8/1/2020                                    43   \n",
       "1    LA  7/31/2020                                    44   \n",
       "2    LA  7/30/2020                                    43   \n",
       "3    LA  7/29/2020                                    42   \n",
       "4    LA  7/28/2020                                    44   \n",
       "\n",
       "   critical_staffing_shortage_today_no  \\\n",
       "0                                  142   \n",
       "1                                  150   \n",
       "2                                  149   \n",
       "3                                  161   \n",
       "4                                  158   \n",
       "\n",
       "   critical_staffing_shortage_today_not_reported  \\\n",
       "0                                             37   \n",
       "1                                             43   \n",
       "2                                             44   \n",
       "3                                             46   \n",
       "4                                             47   \n",
       "\n",
       "   critical_staffing_shortage_anticipated_within_week_yes  \\\n",
       "0                                                 45        \n",
       "1                                                 46        \n",
       "2                                                 45        \n",
       "3                                                 46        \n",
       "4                                                 46        \n",
       "\n",
       "   critical_staffing_shortage_anticipated_within_week_no  \\\n",
       "0                                                139       \n",
       "1                                                147       \n",
       "2                                                146       \n",
       "3                                                156       \n",
       "4                                                155       \n",
       "\n",
       "   critical_staffing_shortage_anticipated_within_week_not_reported  \\\n",
       "0                                                 38                 \n",
       "1                                                 44                 \n",
       "2                                                 45                 \n",
       "3                                                 47                 \n",
       "4                                                 48                 \n",
       "\n",
       "   hospital_onset_covid  hospital_onset_covid_coverage  ...  \\\n",
       "0                  12.0                            221  ...   \n",
       "1                  10.0                            236  ...   \n",
       "2                  11.0                            236  ...   \n",
       "3                  13.0                            249  ...   \n",
       "4                  15.0                            249  ...   \n",
       "\n",
       "   inpatient_bed_covid_utilization_numerator  \\\n",
       "0                                       42.0   \n",
       "1                                       39.0   \n",
       "2                                       36.0   \n",
       "3                                       39.0   \n",
       "4                                       39.0   \n",
       "\n",
       "   inpatient_bed_covid_utilization_denominator  \\\n",
       "0                                        322.0   \n",
       "1                                        322.0   \n",
       "2                                        292.0   \n",
       "3                                        292.0   \n",
       "4                                        292.0   \n",
       "\n",
       "   adult_icu_bed_covid_utilization  adult_icu_bed_covid_utilization_coverage  \\\n",
       "0                         0.214721                                     220.0   \n",
       "1                         0.221270                                     235.0   \n",
       "2                         0.219624                                     234.0   \n",
       "3                         0.223850                                     247.0   \n",
       "4                         0.232641                                     247.0   \n",
       "\n",
       "   adult_icu_bed_covid_utilization_numerator  \\\n",
       "0                                      423.0   \n",
       "1                                      439.0   \n",
       "2                                      432.0   \n",
       "3                                      443.0   \n",
       "4                                      459.0   \n",
       "\n",
       "   adult_icu_bed_covid_utilization_denominator  adult_icu_bed_utilization  \\\n",
       "0                                       1970.0                   0.725381   \n",
       "1                                       1984.0                   0.721774   \n",
       "2                                       1967.0                   0.716319   \n",
       "3                                       1979.0                   0.712481   \n",
       "4                                       1973.0                   0.727319   \n",
       "\n",
       "   adult_icu_bed_utilization_coverage  adult_icu_bed_utilization_numerator  \\\n",
       "0                               220.0                               1429.0   \n",
       "1                               235.0                               1432.0   \n",
       "2                               234.0                               1409.0   \n",
       "3                               247.0                               1410.0   \n",
       "4                               247.0                               1435.0   \n",
       "\n",
       "   adult_icu_bed_utilization_denominator  \n",
       "0                                 1970.0  \n",
       "1                                 1984.0  \n",
       "2                                 1967.0  \n",
       "3                                 1979.0  \n",
       "4                                 1973.0  \n",
       "\n",
       "[5 rows x 60 columns]"
      ]
     },
     "execution_count": 11,
     "metadata": {
      "tags": []
     },
     "output_type": "execute_result"
    }
   ],
   "source": [
    "#Visualizing the data\n",
    "dat = pd.DataFrame(a)\n",
    "dat = dat.iloc[:,1:61]\n",
    "dat.head()"
   ]
  },
  {
   "cell_type": "code",
   "execution_count": 12,
   "metadata": {
    "colab": {
     "base_uri": "https://localhost:8080/"
    },
    "id": "UvSqEt3Z9grb",
    "outputId": "0b2c729d-fb9b-4e21-c4ec-0f90434be057"
   },
   "outputs": [
    {
     "name": "stdout",
     "output_type": "stream",
     "text": [
      "Requirement already satisfied: pyspark in /Library/Frameworks/Python.framework/Versions/3.9/lib/python3.9/site-packages (3.1.1)\n",
      "Requirement already satisfied: py4j==0.10.9 in /Library/Frameworks/Python.framework/Versions/3.9/lib/python3.9/site-packages (from pyspark) (0.10.9)\n"
     ]
    }
   ],
   "source": [
    "#ApacheSpark\n",
    "!pip install pyspark"
   ]
  },
  {
   "cell_type": "code",
   "execution_count": 13,
   "metadata": {
    "id": "QXpBg7jR9mJH"
   },
   "outputs": [],
   "source": [
    "#Connecting pyspark\n",
    "from pyspark.sql.types import *\n",
    "from datetime import datetime\n",
    "\n",
    "from pyspark.conf import SparkConf\n",
    "from pyspark import SparkContext\n",
    "from pyspark.sql import SQLContext\n",
    "from pyspark.sql.functions import col\n",
    "from pyspark.sql.types import BooleanType\n",
    "from pyspark.sql.types import StringType\n",
    "from pyspark.sql.functions import udf"
   ]
  },
  {
   "cell_type": "code",
   "execution_count": 14,
   "metadata": {
    "id": "t9FZ8hWk94nP"
   },
   "outputs": [],
   "source": [
    "sc = SparkContext() \n",
    "config = sc.getConf()\n",
    "config.set('spark.cores.max','4')\n",
    "config.set('spark.executor.memory', '8G')\n",
    "config.set('spark.driver.maxResultSize', '8g')\n",
    "config.set('spark.kryoserializer.buffer.max', '512m')\n",
    "config.set(\"spark.driver.cores\", \"4\")\n",
    "sc.stop()\n",
    "\n",
    "sc = SparkContext(conf = config) \n",
    "sqlContext = SQLContext(sc)\n",
    "    # print(\"Using Apache Spark Version\", sc.version)"
   ]
  },
  {
   "cell_type": "code",
   "execution_count": 15,
   "metadata": {
    "id": "VLYl9lpG-DDR"
   },
   "outputs": [],
   "source": [
    "#Functions to convert pandas dataframe to spark dataframe\n",
    "\n",
    "def equivalent_type(f):\n",
    "      if f == 'datetime64[ns]': return TimestampType()\n",
    "      elif f == 'int64': return LongType()\n",
    "      elif f == 'int32': return IntegerType()\n",
    "      elif f == 'float64': return FloatType()\n",
    "      else: return StringType()\n",
    "      \n",
    "def define_structure(string, format_type):\n",
    "      try: typo = equivalent_type(format_type)\n",
    "      except: typo = StringType()\n",
    "      return StructField(string, typo)\n",
    "      \n",
    "def pandas_to_spark(pandas_df):\n",
    "      columns = list(pandas_df.columns)\n",
    "      types = list(pandas_df.dtypes)\n",
    "      struct_list = []\n",
    "      for column, typo in zip(columns, types): \n",
    "        struct_list.append(define_structure(column, typo))\n",
    "      p_schema = StructType(struct_list)\n",
    "      return sqlContext.createDataFrame(pandas_df, p_schema)"
   ]
  },
  {
   "cell_type": "code",
   "execution_count": 16,
   "metadata": {
    "id": "8I8hm02i9Sj0"
   },
   "outputs": [],
   "source": [
    "spark_df = pandas_to_spark(dat)"
   ]
  },
  {
   "cell_type": "code",
   "execution_count": 17,
   "metadata": {
    "colab": {
     "base_uri": "https://localhost:8080/"
    },
    "id": "Bt6XMAYv-WuO",
    "outputId": "c1abca06-cac2-426a-b0fb-0290daa0f6b0"
   },
   "outputs": [
    {
     "data": {
      "text/plain": [
       "['state',\n",
       " 'date',\n",
       " 'critical_staffing_shortage_today_yes',\n",
       " 'critical_staffing_shortage_today_no',\n",
       " 'critical_staffing_shortage_today_not_reported',\n",
       " 'critical_staffing_shortage_anticipated_within_week_yes',\n",
       " 'critical_staffing_shortage_anticipated_within_week_no',\n",
       " 'critical_staffing_shortage_anticipated_within_week_not_reported',\n",
       " 'hospital_onset_covid',\n",
       " 'hospital_onset_covid_coverage',\n",
       " 'inpatient_beds',\n",
       " 'inpatient_beds_coverage',\n",
       " 'inpatient_beds_used',\n",
       " 'inpatient_beds_used_coverage',\n",
       " 'inpatient_beds_used_covid',\n",
       " 'inpatient_beds_used_covid_coverage',\n",
       " 'previous_day_admission_adult_covid_confirmed',\n",
       " 'previous_day_admission_adult_covid_confirmed_coverage',\n",
       " 'previous_day_admission_adult_covid_suspected',\n",
       " 'previous_day_admission_adult_covid_suspected_coverage',\n",
       " 'previous_day_admission_pediatric_covid_confirmed',\n",
       " 'previous_day_admission_pediatric_covid_confirmed_coverage',\n",
       " 'previous_day_admission_pediatric_covid_suspected',\n",
       " 'previous_day_admission_pediatric_covid_suspected_coverage',\n",
       " 'staffed_adult_icu_bed_occupancy',\n",
       " 'staffed_adult_icu_bed_occupancy_coverage',\n",
       " 'staffed_icu_adult_patients_confirmed_and_suspected_covid',\n",
       " 'staffed_icu_adult_patients_confirmed_and_suspected_covid_coverage',\n",
       " 'staffed_icu_adult_patients_confirmed_covid',\n",
       " 'staffed_icu_adult_patients_confirmed_covid_coverage',\n",
       " 'total_adult_patients_hospitalized_confirmed_and_suspected_covid',\n",
       " 'total_adult_patients_hospitalized_confirmed_and_suspected_covid_coverage',\n",
       " 'total_adult_patients_hospitalized_confirmed_covid',\n",
       " 'total_adult_patients_hospitalized_confirmed_covid_coverage',\n",
       " 'total_pediatric_patients_hospitalized_confirmed_and_suspected_covid',\n",
       " 'total_pediatric_patients_hospitalized_confirmed_and_suspected_covid_coverage',\n",
       " 'total_pediatric_patients_hospitalized_confirmed_covid',\n",
       " 'total_pediatric_patients_hospitalized_confirmed_covid_coverage',\n",
       " 'total_staffed_adult_icu_beds',\n",
       " 'total_staffed_adult_icu_beds_coverage',\n",
       " 'inpatient_beds_utilization',\n",
       " 'inpatient_beds_utilization_coverage',\n",
       " 'inpatient_beds_utilization_numerator',\n",
       " 'inpatient_beds_utilization_denominator',\n",
       " 'percent_of_inpatients_with_covid',\n",
       " 'percent_of_inpatients_with_covid_coverage',\n",
       " 'percent_of_inpatients_with_covid_numerator',\n",
       " 'percent_of_inpatients_with_covid_denominator',\n",
       " 'inpatient_bed_covid_utilization',\n",
       " 'inpatient_bed_covid_utilization_coverage',\n",
       " 'inpatient_bed_covid_utilization_numerator',\n",
       " 'inpatient_bed_covid_utilization_denominator',\n",
       " 'adult_icu_bed_covid_utilization',\n",
       " 'adult_icu_bed_covid_utilization_coverage',\n",
       " 'adult_icu_bed_covid_utilization_numerator',\n",
       " 'adult_icu_bed_covid_utilization_denominator',\n",
       " 'adult_icu_bed_utilization',\n",
       " 'adult_icu_bed_utilization_coverage',\n",
       " 'adult_icu_bed_utilization_numerator',\n",
       " 'adult_icu_bed_utilization_denominator']"
      ]
     },
     "execution_count": 17,
     "metadata": {
      "tags": []
     },
     "output_type": "execute_result"
    }
   ],
   "source": [
    "spark_df.columns"
   ]
  },
  {
   "cell_type": "code",
   "execution_count": 18,
   "metadata": {
    "colab": {
     "base_uri": "https://localhost:8080/"
    },
    "id": "PBycgMKe_ldD",
    "outputId": "6c545d0f-a947-4496-d9cf-80eca6150192"
   },
   "outputs": [
    {
     "name": "stdout",
     "output_type": "stream",
     "text": [
      "+-----+---------+------------------------------------+-----------------------------------+---------------------------------------------+------------------------------------------------------+-----------------------------------------------------+---------------------------------------------------------------+--------------------+-----------------------------+--------------+-----------------------+-------------------+----------------------------+-------------------------+----------------------------------+--------------------------------------------+-----------------------------------------------------+--------------------------------------------+-----------------------------------------------------+------------------------------------------------+---------------------------------------------------------+------------------------------------------------+---------------------------------------------------------+-------------------------------+----------------------------------------+--------------------------------------------------------+-----------------------------------------------------------------+------------------------------------------+---------------------------------------------------+---------------------------------------------------------------+------------------------------------------------------------------------+-------------------------------------------------+----------------------------------------------------------+-------------------------------------------------------------------+----------------------------------------------------------------------------+-----------------------------------------------------+--------------------------------------------------------------+----------------------------+-------------------------------------+--------------------------+-----------------------------------+------------------------------------+--------------------------------------+--------------------------------+-----------------------------------------+------------------------------------------+--------------------------------------------+-------------------------------+----------------------------------------+-----------------------------------------+-------------------------------------------+-------------------------------+----------------------------------------+-----------------------------------------+-------------------------------------------+-------------------------+----------------------------------+-----------------------------------+-------------------------------------+\n",
      "|state|     date|critical_staffing_shortage_today_yes|critical_staffing_shortage_today_no|critical_staffing_shortage_today_not_reported|critical_staffing_shortage_anticipated_within_week_yes|critical_staffing_shortage_anticipated_within_week_no|critical_staffing_shortage_anticipated_within_week_not_reported|hospital_onset_covid|hospital_onset_covid_coverage|inpatient_beds|inpatient_beds_coverage|inpatient_beds_used|inpatient_beds_used_coverage|inpatient_beds_used_covid|inpatient_beds_used_covid_coverage|previous_day_admission_adult_covid_confirmed|previous_day_admission_adult_covid_confirmed_coverage|previous_day_admission_adult_covid_suspected|previous_day_admission_adult_covid_suspected_coverage|previous_day_admission_pediatric_covid_confirmed|previous_day_admission_pediatric_covid_confirmed_coverage|previous_day_admission_pediatric_covid_suspected|previous_day_admission_pediatric_covid_suspected_coverage|staffed_adult_icu_bed_occupancy|staffed_adult_icu_bed_occupancy_coverage|staffed_icu_adult_patients_confirmed_and_suspected_covid|staffed_icu_adult_patients_confirmed_and_suspected_covid_coverage|staffed_icu_adult_patients_confirmed_covid|staffed_icu_adult_patients_confirmed_covid_coverage|total_adult_patients_hospitalized_confirmed_and_suspected_covid|total_adult_patients_hospitalized_confirmed_and_suspected_covid_coverage|total_adult_patients_hospitalized_confirmed_covid|total_adult_patients_hospitalized_confirmed_covid_coverage|total_pediatric_patients_hospitalized_confirmed_and_suspected_covid|total_pediatric_patients_hospitalized_confirmed_and_suspected_covid_coverage|total_pediatric_patients_hospitalized_confirmed_covid|total_pediatric_patients_hospitalized_confirmed_covid_coverage|total_staffed_adult_icu_beds|total_staffed_adult_icu_beds_coverage|inpatient_beds_utilization|inpatient_beds_utilization_coverage|inpatient_beds_utilization_numerator|inpatient_beds_utilization_denominator|percent_of_inpatients_with_covid|percent_of_inpatients_with_covid_coverage|percent_of_inpatients_with_covid_numerator|percent_of_inpatients_with_covid_denominator|inpatient_bed_covid_utilization|inpatient_bed_covid_utilization_coverage|inpatient_bed_covid_utilization_numerator|inpatient_bed_covid_utilization_denominator|adult_icu_bed_covid_utilization|adult_icu_bed_covid_utilization_coverage|adult_icu_bed_covid_utilization_numerator|adult_icu_bed_covid_utilization_denominator|adult_icu_bed_utilization|adult_icu_bed_utilization_coverage|adult_icu_bed_utilization_numerator|adult_icu_bed_utilization_denominator|\n",
      "+-----+---------+------------------------------------+-----------------------------------+---------------------------------------------+------------------------------------------------------+-----------------------------------------------------+---------------------------------------------------------------+--------------------+-----------------------------+--------------+-----------------------+-------------------+----------------------------+-------------------------+----------------------------------+--------------------------------------------+-----------------------------------------------------+--------------------------------------------+-----------------------------------------------------+------------------------------------------------+---------------------------------------------------------+------------------------------------------------+---------------------------------------------------------+-------------------------------+----------------------------------------+--------------------------------------------------------+-----------------------------------------------------------------+------------------------------------------+---------------------------------------------------+---------------------------------------------------------------+------------------------------------------------------------------------+-------------------------------------------------+----------------------------------------------------------+-------------------------------------------------------------------+----------------------------------------------------------------------------+-----------------------------------------------------+--------------------------------------------------------------+----------------------------+-------------------------------------+--------------------------+-----------------------------------+------------------------------------+--------------------------------------+--------------------------------+-----------------------------------------+------------------------------------------+--------------------------------------------+-------------------------------+----------------------------------------+-----------------------------------------+-------------------------------------------+-------------------------------+----------------------------------------+-----------------------------------------+-------------------------------------------+-------------------------+----------------------------------+-----------------------------------+-------------------------------------+\n",
      "|   LA| 8/1/2020|                                  43|                                142|                                           37|                                                    45|                                                  139|                                                             38|                12.0|                          221|       14329.0|                    222|             9283.0|                         222|                     42.0|                                 4|                                       181.0|                                                  221|                                        42.0|                                                  221|                                             1.0|                                                      220|                                             2.0|                                                      220|                         1444.0|                                     221|                                                   427.0|                                                              221|                                     415.0|                                                221|                                                           42.0|                                                                       3|                                             37.0|                                                         3|                                                                0.0|                                                                           3|                                                  0.0|                                                             3|                      1970.0|                                  220|                  0.647847|                              222.0|                              9283.0|                               14329.0|                       0.2038835|                                      4.0|                                      42.0|                                       206.0|                     0.13043478|                                     4.0|                                     42.0|                                      322.0|                     0.21472082|                                   220.0|                                    423.0|                                     1970.0|                0.7253807|                             220.0|                             1429.0|                               1970.0|\n",
      "|   LA|7/31/2020|                                  44|                                150|                                           43|                                                    46|                                                  147|                                                             44|                10.0|                          236|       14415.0|                    237|             9673.0|                         237|                     39.0|                                 4|                                       249.0|                                                  236|                                        65.0|                                                  236|                                             0.0|                                                      235|                                             2.0|                                                      235|                         1451.0|                                     236|                                                   445.0|                                                              236|                                     428.0|                                                236|                                                           38.0|                                                                       3|                                             36.0|                                                         3|                                                                1.0|                                                                           3|                                                  1.0|                                                             3|                      1984.0|                                  235|                0.67103714|                              237.0|                              9673.0|                               14415.0|                      0.17256637|                                      4.0|                                      39.0|                                       226.0|                     0.12111801|                                     4.0|                                     39.0|                                      322.0|                     0.22127016|                                   235.0|                                    439.0|                                     1984.0|                0.7217742|                             235.0|                             1432.0|                               1984.0|\n",
      "|   LA|7/30/2020|                                  43|                                149|                                           44|                                                    45|                                                  146|                                                             45|                11.0|                          236|       14377.0|                    236|             9627.0|                         236|                     36.0|                                 3|                                       244.0|                                                  235|                                        72.0|                                                  234|                                             1.0|                                                      234|                                             5.0|                                                      234|                         1427.0|                                     235|                                                   440.0|                                                              235|                                     421.0|                                                235|                                                           36.0|                                                                       2|                                             36.0|                                                         2|                                                                0.0|                                                                           2|                                                  0.0|                                                             2|                      1967.0|                                  234|                0.66961116|                              236.0|                              9627.0|                               14377.0|                       0.1682243|                                      3.0|                                      36.0|                                       214.0|                     0.12328767|                                     3.0|                                     36.0|                                      292.0|                     0.21962379|                                   234.0|                                    432.0|                                     1967.0|               0.71631926|                             234.0|                             1409.0|                               1967.0|\n",
      "|   LA|7/29/2020|                                  42|                                161|                                           46|                                                    46|                                                  156|                                                             47|                13.0|                          249|       14675.0|                    249|             9750.0|                         249|                     39.0|                                 3|                                       255.0|                                                  248|                                        77.0|                                                  247|                                             1.0|                                                      247|                                             4.0|                                                      247|                         1429.0|                                     248|                                                   449.0|                                                              248|                                     428.0|                                                248|                                                           39.0|                                                                       2|                                             38.0|                                                         2|                                                                0.0|                                                                           2|                                                  0.0|                                                             2|                      1979.0|                                  247|                 0.6643952|                              249.0|                              9750.0|                               14675.0|                           0.195|                                      3.0|                                      39.0|                                       200.0|                     0.13356164|                                     3.0|                                     39.0|                                      292.0|                     0.22385043|                                   247.0|                                    443.0|                                     1979.0|                 0.712481|                             247.0|                             1410.0|                               1979.0|\n",
      "|   LA|7/28/2020|                                  44|                                158|                                           47|                                                    46|                                                  155|                                                             48|                15.0|                          249|       14656.0|                    249|             9741.0|                         249|                     39.0|                                 3|                                       274.0|                                                  248|                                        68.0|                                                  248|                                             4.0|                                                      247|                                             7.0|                                                      247|                         1449.0|                                     248|                                                   465.0|                                                              248|                                     443.0|                                                248|                                                           39.0|                                                                       2|                                             38.0|                                                         2|                                                                0.0|                                                                           2|                                                  0.0|                                                             2|                      1973.0|                                  247|                0.66464245|                              249.0|                              9741.0|                               14656.0|                      0.22033899|                                      3.0|                                      39.0|                                       177.0|                     0.13356164|                                     3.0|                                     39.0|                                      292.0|                     0.23264065|                                   247.0|                                    459.0|                                     1973.0|                0.7273188|                             247.0|                             1435.0|                               1973.0|\n",
      "+-----+---------+------------------------------------+-----------------------------------+---------------------------------------------+------------------------------------------------------+-----------------------------------------------------+---------------------------------------------------------------+--------------------+-----------------------------+--------------+-----------------------+-------------------+----------------------------+-------------------------+----------------------------------+--------------------------------------------+-----------------------------------------------------+--------------------------------------------+-----------------------------------------------------+------------------------------------------------+---------------------------------------------------------+------------------------------------------------+---------------------------------------------------------+-------------------------------+----------------------------------------+--------------------------------------------------------+-----------------------------------------------------------------+------------------------------------------+---------------------------------------------------+---------------------------------------------------------------+------------------------------------------------------------------------+-------------------------------------------------+----------------------------------------------------------+-------------------------------------------------------------------+----------------------------------------------------------------------------+-----------------------------------------------------+--------------------------------------------------------------+----------------------------+-------------------------------------+--------------------------+-----------------------------------+------------------------------------+--------------------------------------+--------------------------------+-----------------------------------------+------------------------------------------+--------------------------------------------+-------------------------------+----------------------------------------+-----------------------------------------+-------------------------------------------+-------------------------------+----------------------------------------+-----------------------------------------+-------------------------------------------+-------------------------+----------------------------------+-----------------------------------+-------------------------------------+\n",
      "only showing top 5 rows\n",
      "\n"
     ]
    }
   ],
   "source": [
    "#test\n",
    "spark_df.show(5)"
   ]
  },
  {
   "cell_type": "code",
   "execution_count": 19,
   "metadata": {
    "id": "KHrNbBwj__En"
   },
   "outputs": [],
   "source": [
    "#test\n",
    "cb_rdd = spark_df.select('*').rdd.map(lambda row: [str(row[i]) for i in ['state','date',]])\n",
    "cb_sdf2 = sqlContext.createDataFrame(cb_rdd,['state','date'])"
   ]
  },
  {
   "cell_type": "code",
   "execution_count": 20,
   "metadata": {
    "colab": {
     "base_uri": "https://localhost:8080/"
    },
    "id": "KIXQ4q6RAaOF",
    "outputId": "a3001182-0976-40e2-db82-8f4a6b3d3734"
   },
   "outputs": [
    {
     "name": "stdout",
     "output_type": "stream",
     "text": [
      "+-----+---------+\n",
      "|state|     date|\n",
      "+-----+---------+\n",
      "|   LA| 8/1/2020|\n",
      "|   LA|7/31/2020|\n",
      "|   LA|7/30/2020|\n",
      "|   LA|7/29/2020|\n",
      "|   LA|7/28/2020|\n",
      "|   LA|7/27/2020|\n",
      "|   LA|7/26/2020|\n",
      "|   LA|7/25/2020|\n",
      "|   LA|7/24/2020|\n",
      "|   LA|7/23/2020|\n",
      "+-----+---------+\n",
      "only showing top 10 rows\n",
      "\n"
     ]
    }
   ],
   "source": [
    "#test\n",
    "x = cb_sdf2.filter(\"state like 'LA'\")\n",
    "x.show(10)"
   ]
  },
  {
   "cell_type": "code",
   "execution_count": 21,
   "metadata": {
    "colab": {
     "base_uri": "https://localhost:8080/",
     "height": 204
    },
    "id": "7dt2So5LC7Fv",
    "outputId": "60edcb68-54e1-4ae1-83c0-063279fa70ce"
   },
   "outputs": [
    {
     "data": {
      "text/html": [
       "<div>\n",
       "<style scoped>\n",
       "    .dataframe tbody tr th:only-of-type {\n",
       "        vertical-align: middle;\n",
       "    }\n",
       "\n",
       "    .dataframe tbody tr th {\n",
       "        vertical-align: top;\n",
       "    }\n",
       "\n",
       "    .dataframe thead th {\n",
       "        text-align: right;\n",
       "    }\n",
       "</style>\n",
       "<table border=\"1\" class=\"dataframe\">\n",
       "  <thead>\n",
       "    <tr style=\"text-align: right;\">\n",
       "      <th></th>\n",
       "      <th>state</th>\n",
       "      <th>date</th>\n",
       "    </tr>\n",
       "  </thead>\n",
       "  <tbody>\n",
       "    <tr>\n",
       "      <th>0</th>\n",
       "      <td>LA</td>\n",
       "      <td>8/1/2020</td>\n",
       "    </tr>\n",
       "    <tr>\n",
       "      <th>1</th>\n",
       "      <td>LA</td>\n",
       "      <td>7/31/2020</td>\n",
       "    </tr>\n",
       "    <tr>\n",
       "      <th>2</th>\n",
       "      <td>LA</td>\n",
       "      <td>7/30/2020</td>\n",
       "    </tr>\n",
       "    <tr>\n",
       "      <th>3</th>\n",
       "      <td>LA</td>\n",
       "      <td>7/29/2020</td>\n",
       "    </tr>\n",
       "    <tr>\n",
       "      <th>4</th>\n",
       "      <td>LA</td>\n",
       "      <td>7/28/2020</td>\n",
       "    </tr>\n",
       "  </tbody>\n",
       "</table>\n",
       "</div>"
      ],
      "text/plain": [
       "  state       date\n",
       "0    LA   8/1/2020\n",
       "1    LA  7/31/2020\n",
       "2    LA  7/30/2020\n",
       "3    LA  7/29/2020\n",
       "4    LA  7/28/2020"
      ]
     },
     "execution_count": 21,
     "metadata": {
      "tags": []
     },
     "output_type": "execute_result"
    }
   ],
   "source": [
    "#test - spark dataframe to pandas dataframe\n",
    "final_df = x.toPandas()\n",
    "final_df.head()"
   ]
  },
  {
   "cell_type": "code",
   "execution_count": null,
   "metadata": {
    "id": "AArBVl8wqf8J"
   },
   "outputs": [],
   "source": [
    "#Flask interactive application using MongoDb and Spark - \n",
    "# Input is registered from interactive application\n",
    "# User input was taken as a search query criterion to pull required data from mongodb\n",
    "# The data is converted to a spark dataframe in order to run data operations\n",
    "# Note: Spark can be used for various types of aggregrations, indexing and ML applications for our scenario. In order to avoid run time errors, \n",
    "# we have chosen to include just indexing.\n",
    "# Spark is used to index the data and pull out useful information and convert into spark dataframe to be displayed as an output in the web application\n",
    "\n",
    "start_time = datetime.now()\n",
    "from flask import Flask, request, render_template\n",
    "app = Flask(\"interactive application\")\n",
    "\n",
    "@app.route('/')\n",
    "def my_form():\n",
    "    return render_template(\"my-form.html\")\n",
    "\n",
    "@app.route('/', methods=['POST'])\n",
    "def my_form_post():\n",
    "    val = request.form['userinput']\n",
    "    query = {\n",
    "    \"state\": {\n",
    "        \"$regex\": val} }\n",
    "    cur = collection.find(query)\n",
    "    a  = []\n",
    "    for i in cur:\n",
    "        a.append(i)\n",
    "    dat = pd.DataFrame(a)\n",
    "    dat = dat.iloc[:,1:61]\n",
    "\n",
    "    spark_df = pandas_to_spark(dat)\n",
    "    cb_rdd = spark_df.select('*').rdd.map(lambda row: [str(row[i]) for i in ['state','date','inpatient_beds','inpatient_beds_used_covid','total_adult_patients_hospitalized_confirmed_and_suspected_covid','percent_of_inpatients_with_covid','adult_icu_bed_utilization']])\n",
    "    cb_sdf2 = sqlContext.createDataFrame(cb_rdd,['state','date','inpatient_beds','inpatient_beds_used_covid','total_adult_patients_hospitalized_confirmed_and_suspected_covid','percent_of_inpatients_with_covid','adult_icu_bed_utilization'])\n",
    "    final_df = cb_sdf2.toPandas()\n",
    "   \n",
    "    \n",
    "    return str(final_df)#displaying results on the webpage\n",
    "end_time = datetime.now()\n",
    "print('Duration: {}'.format(end_time - start_time))"
   ]
  },
  {
   "cell_type": "code",
   "execution_count": 23,
   "metadata": {
    "colab": {
     "base_uri": "https://localhost:8080/"
    },
    "id": "F41gpl2lruTW",
    "outputId": "0f897884-16f0-4baa-9ef6-853bcbb76d1c"
   },
   "outputs": [
    {
     "name": "stdout",
     "output_type": "stream",
     "text": [
      " * Serving Flask app \"interactive application\" (lazy loading)\n",
      " * Environment: production\n",
      "   WARNING: This is a development server. Do not use it in a production deployment.\n",
      "   Use a production WSGI server instead.\n",
      " * Debug mode: off\n"
     ]
    },
    {
     "name": "stderr",
     "output_type": "stream",
     "text": [
      " * Running on http://localhost:5003/ (Press CTRL+C to quit)\n",
      "127.0.0.1 - - [17/Apr/2021 23:35:16] \"\u001b[37mGET / HTTP/1.1\u001b[0m\" 200 -\n"
     ]
    }
   ],
   "source": [
    "app.run(host='localhost', port=5003)"
   ]
  },
  {
   "cell_type": "code",
   "execution_count": null,
   "metadata": {
    "id": "lIWjffZOluqV"
   },
   "outputs": [],
   "source": [
    "#Flask interactive application using MongoDb and Pandas\n",
    "# Similar steps were performed. Spark was replaced with basic pandas dataframe indexing in order to compare perfomances\n",
    "\n",
    "start_time = datetime.now()\n",
    "from flask import Flask, request, render_template\n",
    "app = Flask(\"interactive application\")\n",
    "\n",
    "@app.route('/')\n",
    "def my_form():\n",
    "    return render_template(\"my-form.html\")\n",
    "\n",
    "@app.route('/', methods=['POST'])\n",
    "def my_form_post():\n",
    "    val = request.form['userinput']\n",
    "    query = {\n",
    "    \"state\": {\n",
    "        \"$regex\": val} }\n",
    "    cur = collection.find(query)\n",
    "    a  = []\n",
    "    for i in cur:\n",
    "        a.append(i)\n",
    "    dat = pd.DataFrame(a)\n",
    "    dat = dat.loc[:,['state','date','inpatient_beds','inpatient_beds_used_covid','total_adult_patients_hospitalized_confirmed_and_suspected_covid','percent_of_inpatients_with_covid','adult_icu_bed_utilization']]\n",
    "\n",
    "    return str(dat)#displaying results on the webpage\n",
    "end_time = datetime.now()\n",
    "print('Duration: {}'.format(end_time - start_time))"
   ]
  },
  {
   "cell_type": "code",
   "execution_count": null,
   "metadata": {
    "colab": {
     "base_uri": "https://localhost:8080/"
    },
    "id": "vv9uMcfHmc3L",
    "outputId": "f99c7869-d885-485d-fc68-fb4d38a6b07b"
   },
   "outputs": [
    {
     "name": "stdout",
     "output_type": "stream",
     "text": [
      " * Serving Flask app \"interactive application\" (lazy loading)\n",
      " * Environment: production\n",
      "   WARNING: This is a development server. Do not use it in a production deployment.\n",
      "   Use a production WSGI server instead.\n",
      " * Debug mode: off\n"
     ]
    },
    {
     "name": "stderr",
     "output_type": "stream",
     "text": [
      " * Running on http://localhost:5004/ (Press CTRL+C to quit)\n",
      "127.0.0.1 - - [17/Apr/2021 21:33:31] \"\u001b[37mGET / HTTP/1.1\u001b[0m\" 200 -\n",
      "127.0.0.1 - - [17/Apr/2021 21:33:31] \"\u001b[33mGET /favicon.ico HTTP/1.1\u001b[0m\" 404 -\n",
      "127.0.0.1 - - [17/Apr/2021 21:33:34] \"\u001b[37mPOST / HTTP/1.1\u001b[0m\" 200 -\n"
     ]
    }
   ],
   "source": [
    "app.run(host='localhost', port=5004)"
   ]
  },
  {
   "cell_type": "code",
   "execution_count": null,
   "metadata": {
    "id": "gOokxT_0BEtQ"
   },
   "outputs": [],
   "source": [
    "# Run time for spark interactive application was better than pandas. The difference is not significant in this case because our data is relatively smaller\n",
    "# Upon running complex aggregrations or ML functions, run time difference would be very evident."
   ]
  }
 ],
 "metadata": {
  "colab": {
   "collapsed_sections": [],
   "name": "FinalProject.ipynb",
   "provenance": []
  },
  "kernelspec": {
   "display_name": "Python 3",
   "language": "python",
   "name": "python3"
  },
  "language_info": {
   "codemirror_mode": {
    "name": "ipython",
    "version": 3
   },
   "file_extension": ".py",
   "mimetype": "text/x-python",
   "name": "python",
   "nbconvert_exporter": "python",
   "pygments_lexer": "ipython3",
   "version": "3.8.5"
  }
 },
 "nbformat": 4,
 "nbformat_minor": 4
}
